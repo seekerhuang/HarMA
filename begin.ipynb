{
 "cells": [
  {
   "cell_type": "code",
   "execution_count": null,
   "id": "103a4035-3da4-47af-859b-0a320e17ba9f",
   "metadata": {
    "tags": []
   },
   "outputs": [],
   "source": [
    "import subprocess\n",
    "import os\n",
    "\n",
    "result = subprocess.run('bash -c \"source /etc/network_turbo && env | grep proxy\"', shell=True, capture_output=True, text=True)\n",
    "output = result.stdout\n",
    "for line in output.splitlines():\n",
    "    if '=' in line:\n",
    "        var, value = line.split('=', 1)\n",
    "        os.environ[var] = value\n",
    "\n",
    "!python run.py --task 'itr_rsitmd' --dist \"f2\" --config 'configs/Retrieval_rsitmd.yaml' --output_dir './checkpoints/HARMA/full_rsitmd'"
   ]
  },
  {
   "cell_type": "code",
   "execution_count": null,
   "id": "bba3b8e1-3ddc-49f0-b0b0-9fc52581c5d9",
   "metadata": {
    "tags": []
   },
   "outputs": [],
   "source": [
    "# import subprocess\n",
    "# import os\n",
    "\n",
    "# result = subprocess.run('bash -c \"source /etc/network_turbo && env | grep proxy\"', shell=True, capture_output=True, text=True)\n",
    "# output = result.stdout\n",
    "# for line in output.splitlines():\n",
    "#     if '=' in line:\n",
    "#         var, value = line.split('=', 1)\n",
    "#         os.environ[var] = value\n",
    "        \n",
    "!python run.py --task 'itr_rsicd' --dist \"f2\" --config 'configs/Retrieval_rsicd.yaml' --output_dir './checkpoints/HARMA/full_rsicd'\n"
   ]
  },
  {
   "cell_type": "code",
   "execution_count": null,
   "id": "f1e5522e-1a5b-42ab-9c56-e86e0831b1f0",
   "metadata": {
    "tags": []
   },
   "outputs": [],
   "source": [
    "import subprocess\n",
    "import os\n",
    "\n",
    "result = subprocess.run('bash -c \"source /etc/network_turbo && env | grep proxy\"', shell=True, capture_output=True, text=True)\n",
    "output = result.stdout\n",
    "for line in output.splitlines():\n",
    "    if '=' in line:\n",
    "        var, value = line.split('=', 1)\n",
    "        os.environ[var] = value\n",
    "\n",
    "\n",
    "!python run.py --task 'itr_rsitmd' --dist \"f2\" --config 'configs/Retrieval_rsitmd.yaml' --output_dir './checkpoints/HARMA/test' --checkpoint '/root/autodl-tmp/GeoRSCLIP/ckpt/RS5M_ViT-B-32_RET-2.pt' --evaluate"
   ]
  },
  {
   "cell_type": "code",
   "execution_count": null,
   "id": "340bf231-f251-450d-a449-9bd6d77817b5",
   "metadata": {
    "tags": []
   },
   "outputs": [],
   "source": [
    "\n",
    "\n",
    "!python run.py --task 'itr_rsicd' --dist \"f2\" --config 'configs/Retrieval_rsicd.yaml' --output_dir './checkpoints/HARMA/test' --checkpoint './checkpoints/HARMA/full_rsicd/checkpoint_best.pth' --evaluate\n"
   ]
  }
 ],
 "metadata": {
  "kernelspec": {
   "display_name": "Python 3 (ipykernel)",
   "language": "python",
   "name": "python3"
  },
  "language_info": {
   "codemirror_mode": {
    "name": "ipython",
    "version": 3
   },
   "file_extension": ".py",
   "mimetype": "text/x-python",
   "name": "python",
   "nbconvert_exporter": "python",
   "pygments_lexer": "ipython3",
   "version": "3.8.10"
  }
 },
 "nbformat": 4,
 "nbformat_minor": 5
}
