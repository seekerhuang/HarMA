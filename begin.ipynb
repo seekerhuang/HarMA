{
 "cells": [
  {
   "cell_type": "code",
   "execution_count": null,
   "id": "103a4035-3da4-47af-859b-0a320e17ba9f",
   "metadata": {
    "tags": []
   },
   "outputs": [],
   "source": [
    "# rsitmd vit-b/32 training\n",
    "\n",
    "!python run.py --task 'itr_rsitmd_vit' --dist \"f2\" --config 'configs/Retrieval_rsitmd_vit.yaml' --output_dir './checkpoints/HARMA/full_rsitmd_vit'"
   ]
  },
  {
   "cell_type": "code",
   "execution_count": null,
   "id": "bba3b8e1-3ddc-49f0-b0b0-9fc52581c5d9",
   "metadata": {
    "tags": []
   },
   "outputs": [],
   "source": [
    "# rsicd vit-b/32 training\n",
    "        \n",
    "!python run.py --task 'itr_rsicd_vit' --dist \"f2\" --config 'configs/Retrieval_rsicd_vit.yaml' --output_dir './checkpoints/HARMA/full_rsicd_vit'\n"
   ]
  },
  {
   "cell_type": "code",
   "execution_count": null,
   "id": "f1e5522e-1a5b-42ab-9c56-e86e0831b1f0",
   "metadata": {
    "tags": []
   },
   "outputs": [],
   "source": [
    "# rsitmd GeoRSCLIP training\n",
    "\n",
    "\n",
    "!python run.py --task 'itr_rsitmd_geo' --dist \"f2\" --config 'configs/Retrieval_rsitmd_geo.yaml' --output_dir './checkpoints/HARMA/full_rsitmd_geo'"
   ]
  },
  {
   "cell_type": "code",
   "execution_count": null,
   "id": "340bf231-f251-450d-a449-9bd6d77817b5",
   "metadata": {
    "tags": []
   },
   "outputs": [],
   "source": [
    "# rsicd GeoRSCLIP training\n",
    "\n",
    "!python run.py --task 'itr_rsicd_geo' --dist \"f2\" --config 'configs/Retrieval_rsicd_geo.yaml' --output_dir './checkpoints/HARMA/full_rsitmd_geo'\n"
   ]
  },
  {
   "cell_type": "code",
   "execution_count": null,
   "id": "f5c3cbe9",
   "metadata": {},
   "outputs": [],
   "source": [
    "# rsitmd GeoRSCLIP evaluation\n",
    "\n",
    "\n",
    "!python run.py --task 'itr_rsitmd_geo' --dist \"f2\" --config 'configs/Retrieval_rsitmd_geo.yaml' --output_dir './checkpoints/HARMA/test' --checkpoint './checkpoints/HARMA/full_rstimd_geo/checkpoint_best.pth' --evaluate"
   ]
  },
  {
   "cell_type": "code",
   "execution_count": null,
   "id": "6201d00d",
   "metadata": {},
   "outputs": [],
   "source": [
    "# rsicd GeoRSCLIP evaluation\n",
    "\n",
    "!python run.py --task 'itr_rsicd_geo' --dist \"f2\" --config 'configs/Retrieval_rsicd_geo.yaml' --output_dir './checkpoints/HARMA/test' --checkpoint './checkpoints/HARMA/full_rsicd_geo/checkpoint_best.pth' --evaluate\n"
   ]
  },
  {
   "cell_type": "code",
   "execution_count": null,
   "id": "bdb5b207",
   "metadata": {},
   "outputs": [],
   "source": [
    "# rsitmd vit-b/32 evaluation\n",
    "\n",
    "\n",
    "!python run.py --task 'itr_rsitmd_vit' --dist \"f2\" --config 'configs/Retrieval_rsitmd_vit.yaml' --output_dir './checkpoints/HARMA/test' --checkpoint './checkpoints/HARMA/full_rstimd_vit/checkpoint_best.pth' --evaluate"
   ]
  },
  {
   "cell_type": "code",
   "execution_count": null,
   "id": "d03e02ad",
   "metadata": {},
   "outputs": [],
   "source": [
    "# rsicd vit-b/32 evaluation\n",
    "\n",
    "\n",
    "!python run.py --task 'itr_rsicd_vit' --dist \"f2\" --config 'configs/Retrieval_rsicd_vit.yaml' --output_dir './checkpoints/HARMA/test' --checkpoint './checkpoints/HARMA/full_rsicd_vit/checkpoint_best.pth' --evaluate"
   ]
  }
 ],
 "metadata": {
  "kernelspec": {
   "display_name": "Python 3 (ipykernel)",
   "language": "python",
   "name": "python3"
  },
  "language_info": {
   "codemirror_mode": {
    "name": "ipython",
    "version": 3
   },
   "file_extension": ".py",
   "mimetype": "text/x-python",
   "name": "python",
   "nbconvert_exporter": "python",
   "pygments_lexer": "ipython3",
   "version": "3.8.10"
  }
 },
 "nbformat": 4,
 "nbformat_minor": 5
}
